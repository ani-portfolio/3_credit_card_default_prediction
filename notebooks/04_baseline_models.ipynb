{
 "cells": [
  {
   "cell_type": "code",
   "execution_count": 1,
   "metadata": {},
   "outputs": [],
   "source": [
    "# autoreload\n",
    "%load_ext autoreload\n",
    "%autoreload 2\n",
    "\n",
    "# change current working directory to the root of the project\n",
    "import os\n",
    "os.chdir(os.path.dirname(os.getcwd()))"
   ]
  },
  {
   "attachments": {},
   "cell_type": "markdown",
   "metadata": {},
   "source": [
    "# Purpose\n",
    "- Purpose of this notebook is to build baseline models"
   ]
  },
  {
   "cell_type": "code",
   "execution_count": 2,
   "metadata": {},
   "outputs": [],
   "source": [
    "import warnings\n",
    "from IPython.display import display\n",
    "\n",
    "import pandas as pd\n",
    "import numpy as np\n",
    "import matplotlib.pyplot as plt\n",
    "import seaborn as sns\n",
    "\n",
    "from sklearn.metrics import accuracy_score, precision_score, recall_score, f1_score\n",
    "from sklearn.metrics import roc_curve, auc\n",
    "from sklearn.metrics import brier_score_loss\n",
    "from sklearn.metrics import confusion_matrix"
   ]
  },
  {
   "cell_type": "code",
   "execution_count": 3,
   "metadata": {},
   "outputs": [
    {
     "name": "stderr",
     "output_type": "stream",
     "text": [
      "/var/folders/rx/jl4f7yr95xd03cgb4sg2w99h0000gn/T/ipykernel_1527/4075833985.py:2: MatplotlibDeprecationWarning: The seaborn styles shipped by Matplotlib are deprecated since 3.6, as they no longer correspond to the styles shipped by seaborn. However, they will remain available as 'seaborn-v0_8-<style>'. Alternatively, directly use the seaborn API instead.\n",
      "  plt.style.use(\"seaborn-whitegrid\")\n"
     ]
    }
   ],
   "source": [
    "# Set Matplotlib defaults\n",
    "plt.style.use(\"seaborn-whitegrid\")\n",
    "plt.rc(\"figure\", autolayout=True, figsize=(11, 4))\n",
    "plt.rc(\n",
    "    \"axes\",\n",
    "    labelweight=\"bold\",\n",
    "    labelsize=\"large\",\n",
    "    titleweight=\"bold\",\n",
    "    titlesize=16,\n",
    "    titlepad=10,\n",
    ")\n",
    "plot_params = dict(\n",
    "    color=\"0.75\",\n",
    "    style=\".-\",\n",
    "    markeredgecolor=\"0.25\",\n",
    "    markerfacecolor=\"0.25\",\n",
    ")"
   ]
  },
  {
   "cell_type": "markdown",
   "metadata": {},
   "source": [
    "# Load Data"
   ]
  },
  {
   "cell_type": "code",
   "execution_count": 4,
   "metadata": {},
   "outputs": [
    {
     "data": {
      "text/html": [
       "<div>\n",
       "<style scoped>\n",
       "    .dataframe tbody tr th:only-of-type {\n",
       "        vertical-align: middle;\n",
       "    }\n",
       "\n",
       "    .dataframe tbody tr th {\n",
       "        vertical-align: top;\n",
       "    }\n",
       "\n",
       "    .dataframe thead th {\n",
       "        text-align: right;\n",
       "    }\n",
       "</style>\n",
       "<table border=\"1\" class=\"dataframe\">\n",
       "  <thead>\n",
       "    <tr style=\"text-align: right;\">\n",
       "      <th></th>\n",
       "      <th>customer_ID</th>\n",
       "      <th>B_30_count</th>\n",
       "      <th>B_30_last</th>\n",
       "      <th>B_30_first</th>\n",
       "      <th>B_30_nunique</th>\n",
       "      <th>B_38_count</th>\n",
       "      <th>B_38_last</th>\n",
       "      <th>B_38_first</th>\n",
       "      <th>B_38_nunique</th>\n",
       "      <th>D_114_count</th>\n",
       "      <th>...</th>\n",
       "      <th>D_141_sub</th>\n",
       "      <th>D_141_frac</th>\n",
       "      <th>D_142_sub</th>\n",
       "      <th>D_142_frac</th>\n",
       "      <th>D_143_sub</th>\n",
       "      <th>D_143_frac</th>\n",
       "      <th>D_144_sub</th>\n",
       "      <th>D_144_frac</th>\n",
       "      <th>D_145_sub</th>\n",
       "      <th>D_145_frac</th>\n",
       "    </tr>\n",
       "  </thead>\n",
       "  <tbody>\n",
       "    <tr>\n",
       "      <th>0</th>\n",
       "      <td>12c761e40348fa242de0356426fa9547f0feea34d1f57b...</td>\n",
       "      <td>13</td>\n",
       "      <td>0.0</td>\n",
       "      <td>0.0</td>\n",
       "      <td>1</td>\n",
       "      <td>13</td>\n",
       "      <td>5.0</td>\n",
       "      <td>1.0</td>\n",
       "      <td>3</td>\n",
       "      <td>11</td>\n",
       "      <td>...</td>\n",
       "      <td>0.001539</td>\n",
       "      <td>1.265030</td>\n",
       "      <td>NaN</td>\n",
       "      <td>NaN</td>\n",
       "      <td>-0.000028</td>\n",
       "      <td>0.995717</td>\n",
       "      <td>-0.007654</td>\n",
       "      <td>0.027910</td>\n",
       "      <td>0.001819</td>\n",
       "      <td>1.832629</td>\n",
       "    </tr>\n",
       "    <tr>\n",
       "      <th>1</th>\n",
       "      <td>c34b0cf3175108892e42e9382e8177847ac15636870604...</td>\n",
       "      <td>3</td>\n",
       "      <td>0.0</td>\n",
       "      <td>0.0</td>\n",
       "      <td>1</td>\n",
       "      <td>3</td>\n",
       "      <td>4.0</td>\n",
       "      <td>1.0</td>\n",
       "      <td>2</td>\n",
       "      <td>1</td>\n",
       "      <td>...</td>\n",
       "      <td>-0.002279</td>\n",
       "      <td>0.751526</td>\n",
       "      <td>NaN</td>\n",
       "      <td>NaN</td>\n",
       "      <td>-0.003474</td>\n",
       "      <td>0.475973</td>\n",
       "      <td>0.002824</td>\n",
       "      <td>1.566516</td>\n",
       "      <td>-0.007112</td>\n",
       "      <td>0.070716</td>\n",
       "    </tr>\n",
       "    <tr>\n",
       "      <th>2</th>\n",
       "      <td>14aff3c0e0ed2aaaef6deb127f2541b67fdd0002615bfd...</td>\n",
       "      <td>13</td>\n",
       "      <td>1.0</td>\n",
       "      <td>2.0</td>\n",
       "      <td>3</td>\n",
       "      <td>13</td>\n",
       "      <td>3.0</td>\n",
       "      <td>3.0</td>\n",
       "      <td>2</td>\n",
       "      <td>13</td>\n",
       "      <td>...</td>\n",
       "      <td>0.020072</td>\n",
       "      <td>1.022241</td>\n",
       "      <td>0.052345</td>\n",
       "      <td>1.21339</td>\n",
       "      <td>0.003577</td>\n",
       "      <td>1.003564</td>\n",
       "      <td>-0.213398</td>\n",
       "      <td>0.641255</td>\n",
       "      <td>-0.091631</td>\n",
       "      <td>0.505844</td>\n",
       "    </tr>\n",
       "    <tr>\n",
       "      <th>3</th>\n",
       "      <td>f82be644eb90ab65d737b6dfc5de670559fa2ca23c98ea...</td>\n",
       "      <td>13</td>\n",
       "      <td>0.0</td>\n",
       "      <td>0.0</td>\n",
       "      <td>1</td>\n",
       "      <td>13</td>\n",
       "      <td>2.0</td>\n",
       "      <td>1.0</td>\n",
       "      <td>2</td>\n",
       "      <td>13</td>\n",
       "      <td>...</td>\n",
       "      <td>-0.000378</td>\n",
       "      <td>0.919788</td>\n",
       "      <td>NaN</td>\n",
       "      <td>NaN</td>\n",
       "      <td>0.004012</td>\n",
       "      <td>2.043321</td>\n",
       "      <td>0.001460</td>\n",
       "      <td>2.007422</td>\n",
       "      <td>0.002279</td>\n",
       "      <td>1.546141</td>\n",
       "    </tr>\n",
       "    <tr>\n",
       "      <th>4</th>\n",
       "      <td>09dec6d53f0f12db6edcaecbb4d2bddf41f220ba9569d1...</td>\n",
       "      <td>13</td>\n",
       "      <td>0.0</td>\n",
       "      <td>0.0</td>\n",
       "      <td>1</td>\n",
       "      <td>13</td>\n",
       "      <td>1.0</td>\n",
       "      <td>2.0</td>\n",
       "      <td>2</td>\n",
       "      <td>13</td>\n",
       "      <td>...</td>\n",
       "      <td>-0.004239</td>\n",
       "      <td>0.356514</td>\n",
       "      <td>NaN</td>\n",
       "      <td>NaN</td>\n",
       "      <td>0.008933</td>\n",
       "      <td>78.804175</td>\n",
       "      <td>0.004662</td>\n",
       "      <td>30.032338</td>\n",
       "      <td>-0.003442</td>\n",
       "      <td>0.083617</td>\n",
       "    </tr>\n",
       "  </tbody>\n",
       "</table>\n",
       "<p>5 rows × 1461 columns</p>\n",
       "</div>"
      ],
      "text/plain": [
       "                                         customer_ID  B_30_count  B_30_last  \\\n",
       "0  12c761e40348fa242de0356426fa9547f0feea34d1f57b...          13        0.0   \n",
       "1  c34b0cf3175108892e42e9382e8177847ac15636870604...           3        0.0   \n",
       "2  14aff3c0e0ed2aaaef6deb127f2541b67fdd0002615bfd...          13        1.0   \n",
       "3  f82be644eb90ab65d737b6dfc5de670559fa2ca23c98ea...          13        0.0   \n",
       "4  09dec6d53f0f12db6edcaecbb4d2bddf41f220ba9569d1...          13        0.0   \n",
       "\n",
       "   B_30_first  B_30_nunique  B_38_count  B_38_last  B_38_first  B_38_nunique  \\\n",
       "0         0.0             1          13        5.0         1.0             3   \n",
       "1         0.0             1           3        4.0         1.0             2   \n",
       "2         2.0             3          13        3.0         3.0             2   \n",
       "3         0.0             1          13        2.0         1.0             2   \n",
       "4         0.0             1          13        1.0         2.0             2   \n",
       "\n",
       "   D_114_count  ...  D_141_sub  D_141_frac  D_142_sub  D_142_frac  D_143_sub  \\\n",
       "0           11  ...   0.001539    1.265030        NaN         NaN  -0.000028   \n",
       "1            1  ...  -0.002279    0.751526        NaN         NaN  -0.003474   \n",
       "2           13  ...   0.020072    1.022241   0.052345     1.21339   0.003577   \n",
       "3           13  ...  -0.000378    0.919788        NaN         NaN   0.004012   \n",
       "4           13  ...  -0.004239    0.356514        NaN         NaN   0.008933   \n",
       "\n",
       "   D_143_frac  D_144_sub  D_144_frac  D_145_sub  D_145_frac  \n",
       "0    0.995717  -0.007654    0.027910   0.001819    1.832629  \n",
       "1    0.475973   0.002824    1.566516  -0.007112    0.070716  \n",
       "2    1.003564  -0.213398    0.641255  -0.091631    0.505844  \n",
       "3    2.043321   0.001460    2.007422   0.002279    1.546141  \n",
       "4   78.804175   0.004662   30.032338  -0.003442    0.083617  \n",
       "\n",
       "[5 rows x 1461 columns]"
      ]
     },
     "metadata": {},
     "output_type": "display_data"
    },
    {
     "data": {
      "text/html": [
       "<div>\n",
       "<style scoped>\n",
       "    .dataframe tbody tr th:only-of-type {\n",
       "        vertical-align: middle;\n",
       "    }\n",
       "\n",
       "    .dataframe tbody tr th {\n",
       "        vertical-align: top;\n",
       "    }\n",
       "\n",
       "    .dataframe thead th {\n",
       "        text-align: right;\n",
       "    }\n",
       "</style>\n",
       "<table border=\"1\" class=\"dataframe\">\n",
       "  <thead>\n",
       "    <tr style=\"text-align: right;\">\n",
       "      <th></th>\n",
       "      <th>target</th>\n",
       "    </tr>\n",
       "  </thead>\n",
       "  <tbody>\n",
       "    <tr>\n",
       "      <th>0</th>\n",
       "      <td>0</td>\n",
       "    </tr>\n",
       "    <tr>\n",
       "      <th>1</th>\n",
       "      <td>1</td>\n",
       "    </tr>\n",
       "    <tr>\n",
       "      <th>2</th>\n",
       "      <td>0</td>\n",
       "    </tr>\n",
       "    <tr>\n",
       "      <th>3</th>\n",
       "      <td>0</td>\n",
       "    </tr>\n",
       "    <tr>\n",
       "      <th>4</th>\n",
       "      <td>0</td>\n",
       "    </tr>\n",
       "  </tbody>\n",
       "</table>\n",
       "</div>"
      ],
      "text/plain": [
       "   target\n",
       "0       0\n",
       "1       1\n",
       "2       0\n",
       "3       0\n",
       "4       0"
      ]
     },
     "metadata": {},
     "output_type": "display_data"
    }
   ],
   "source": [
    "nrows = None\n",
    "X_train = pd.read_csv(\"data/transformed/X_train.csv\", nrows=nrows)\n",
    "X_test = pd.read_csv(\"data/transformed/X_test.csv\", nrows=nrows)\n",
    "\n",
    "y_train = pd.read_csv(\"data/transformed/y_train.csv\", nrows=nrows)\n",
    "y_test = pd.read_csv(\"data/transformed/y_test.csv\", nrows=nrows)\n",
    "\n",
    "display(X_test.head())\n",
    "display(y_test.head())"
   ]
  },
  {
   "cell_type": "markdown",
   "metadata": {},
   "source": [
    "# Baseline Model 1\n",
    "- Zero-Rate Model\n",
    "- Predcit the most frequent class"
   ]
  },
  {
   "cell_type": "code",
   "execution_count": 5,
   "metadata": {},
   "outputs": [],
   "source": [
    "class BaselineModelZeroR:\n",
    "    '''ZeroR baseline model that always predicts the most frequent class'''\n",
    "    \n",
    "    def fit(self, X_train: pd.DataFrame, y_train: pd.Series):\n",
    "        pass\n",
    "        \n",
    "    def predict(self, X: pd.DataFrame, y: pd.DataFrame) -> pd.DataFrame:\n",
    "\n",
    "        # merge X and y on index\n",
    "        df = X.merge(y, left_index=True, right_index=True)\n",
    "\n",
    "        # get the most frequent class\n",
    "        most_frequent_class = df[\"target\"].value_counts().index[0]\n",
    "\n",
    "        # create predictions\n",
    "        predictions = [most_frequent_class] * len(df)\n",
    "\n",
    "        return np.array(predictions)"
   ]
  },
  {
   "cell_type": "code",
   "execution_count": 6,
   "metadata": {},
   "outputs": [
    {
     "name": "stdout",
     "output_type": "stream",
     "text": [
      "Brier: 0.25650719632175895\n"
     ]
    }
   ],
   "source": [
    "model = BaselineModelZeroR()\n",
    "model.fit(X_train, y_train)\n",
    "predictions_baseline_model_1 = model.predict(X_test, y_test)\n",
    "\n",
    "print(f\"Brier: {brier_score_loss(y_test, predictions_baseline_model_1)}\")"
   ]
  },
  {
   "cell_type": "code",
   "execution_count": 7,
   "metadata": {},
   "outputs": [
    {
     "data": {
      "image/png": "[encoded data removed]",
      "text/plain": [
       "<Figure size 1100x400 with 2 Axes>"
      ]
     },
     "metadata": {},
     "output_type": "display_data"
    }
   ],
   "source": [
    "cf_matrix = confusion_matrix(y_test, predictions_baseline_model_1)\n",
    "\n",
    "group_names = ['True Neg','False Pos','False Neg','True Pos']\n",
    "group_cots = ['{0:0.0f}'.format(value) for value in cf_matrix.flatten()]\n",
    "group_percentages = ['{0:.2%}'.format(value) for value in cf_matrix.flatten()/np.sum(cf_matrix)]\n",
    "\n",
    "labels = [f'{v1}\\n{v2}\\n{v3}' for v1, v2, v3 in zip(group_names,group_cots,group_percentages)]\n",
    "labels = np.asarray(labels).reshape(2,2)\n",
    "\n",
    "plt.title('Baseline Model 1:  Confusion Matrix')\n",
    "sns.heatmap(cf_matrix, annot=labels, fmt='', cmap='Blues')\n",
    "\n",
    "plt.tight_layout()"
   ]
  },
  {
   "cell_type": "markdown",
   "metadata": {},
   "source": [
    "# Baseline Model 2\n",
    "- Random-Rate Model\n",
    "- Predicts a random class with the same probability as the most frequent class"
   ]
  },
  {
   "cell_type": "code",
   "execution_count": 8,
   "metadata": {},
   "outputs": [],
   "source": [
    "class BaselineModelRandom:\n",
    "    '''Random baseline model that randomly predicts 0 or 1 based on the distribution of the training set'''\n",
    "\n",
    "    def fit(self, X_train: pd.DataFrame, y_train: pd.Series):\n",
    "        pass\n",
    "        \n",
    "    def predict(self, X: pd.DataFrame, y: pd.DataFrame) -> pd.DataFrame:\n",
    "\n",
    "        # merge X and y on index\n",
    "        df = X.merge(y, left_index=True, right_index=True)\n",
    "\n",
    "        # predict 0 or 1 based on the distribution of the training set\n",
    "        predictions = np.random.choice([0, 1], size=len(df), p=df[\"target\"].value_counts(normalize=True))\n",
    "\n",
    "        return np.array(predictions)"
   ]
  },
  {
   "cell_type": "code",
   "execution_count": 9,
   "metadata": {},
   "outputs": [
    {
     "name": "stdout",
     "output_type": "stream",
     "text": [
      "Brier: 0.381715568242485\n"
     ]
    }
   ],
   "source": [
    "model = BaselineModelRandom()\n",
    "model.fit(X_train, y_train)\n",
    "predictions_baseline_model_2 = model.predict(X_test, y_test)\n",
    "\n",
    "print(f\"Brier: {brier_score_loss(y_test, predictions_baseline_model_2)}\")"
   ]
  },
  {
   "cell_type": "code",
   "execution_count": 10,
   "metadata": {},
   "outputs": [
    {
     "data": {
      "image/png": "[encoded data removed]",
      "text/plain": [
       "<Figure size 1100x400 with 2 Axes>"
      ]
     },
     "metadata": {},
     "output_type": "display_data"
    }
   ],
   "source": [
    "cf_matrix = confusion_matrix(y_test, predictions_baseline_model_2)\n",
    "\n",
    "group_names = ['True Neg','False Pos','False Neg','True Pos']\n",
    "group_cots = ['{0:0.0f}'.format(value) for value in cf_matrix.flatten()]\n",
    "group_percentages = ['{0:.2%}'.format(value) for value in cf_matrix.flatten()/np.sum(cf_matrix)]\n",
    "\n",
    "labels = [f'{v1}\\n{v2}\\n{v3}' for v1, v2, v3 in zip(group_names,group_cots,group_percentages)]\n",
    "labels = np.asarray(labels).reshape(2,2)\n",
    "\n",
    "plt.title('Baseline Model 2:  Confusion Matrix')\n",
    "sns.heatmap(cf_matrix, annot=labels, fmt='', cmap='Blues')\n",
    "\n",
    "plt.tight_layout()"
   ]
  },
  {
   "cell_type": "code",
   "execution_count": 12,
   "metadata": {},
   "outputs": [],
   "source": [
    "# save predictions\n",
    "pd.DataFrame(predictions_baseline_model_2).to_csv(\"predictions/predictions_baseline_model_2.csv\", index=False)\n",
    "\n",
    "# save predictions\n",
    "pd.DataFrame(predictions_baseline_model_1).to_csv(\"predictions/predictions_baseline_model_1.csv\", index=False)\n"
   ]
  }
 ],
 "metadata": {
  "kernelspec": {
   "display_name": ".3_venv",
   "language": "python",
   "name": "python3"
  },
  "language_info": {
   "codemirror_mode": {
    "name": "ipython",
    "version": 3
   },
   "file_extension": ".py",
   "mimetype": "text/x-python",
   "name": "python",
   "nbconvert_exporter": "python",
   "pygments_lexer": "ipython3",
   "version": "3.9.6"
  },
  "orig_nbformat": 4
 },
 "nbformat": 4,
 "nbformat_minor": 2
}
